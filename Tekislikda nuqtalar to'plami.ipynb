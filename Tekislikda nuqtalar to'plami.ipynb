{
 "cells": [
  {
   "cell_type": "code",
   "execution_count": 1,
   "id": "a7b9a28f-4097-44f4-b6d9-eae39740f049",
   "metadata": {
    "tags": []
   },
   "outputs": [],
   "source": [
    "import random\n",
    "def ListPoints(N):\n",
    "    a=[]\n",
    "    for i  in range(N):\n",
    "        b=[random.randint(-9, 9) for j in range(2)]\n",
    "        a.append(b)\n",
    "    return a"
   ]
  },
  {
   "cell_type": "code",
   "execution_count": 2,
   "id": "b323ddd3-a29f-4ea8-8e51-4c7a4abf76bb",
   "metadata": {
    "tags": []
   },
   "outputs": [],
   "source": [
    "def DistInCoor(x,y,Bx=None,By=None):\n",
    "    if not Bx:\n",
    "        Bx=0\n",
    "    if not By:\n",
    "        By=0\n",
    "    d=((Bx-x)**2+(By-y)**2)**(1/2)\n",
    "    return d"
   ]
  },
  {
   "cell_type": "code",
   "execution_count": 9,
   "id": "e862b950-7226-4945-871d-45bec37c064c",
   "metadata": {
    "tags": []
   },
   "outputs": [
    {
     "name": "stdin",
     "output_type": "stream",
     "text": [
      "Nuqtalar soni:  5\n"
     ]
    },
    {
     "name": "stdout",
     "output_type": "stream",
     "text": [
      "Input: a=[[-2, -5], [0, 9], [-4, -1], [0, 4], [7, 1]], B=[-1, -7]\n",
      "Output:\n",
      "[-2, -5]\n"
     ]
    }
   ],
   "source": [
    "# 131\n",
    "\"\"\" B nuqtaga eng yaqin nuqtani aniqlaw\"\"\"\n",
    "N=int(input(\"Nuqtalar soni: \"))\n",
    "a=ListPoints(N) # N ta nuqtaning koordinatalaridan tawkil topgan massiv\n",
    "B=[random.randint(-9, 9) for i in range(2)] # B nuqtaning koordinatasi\n",
    "print(f\"Input: a={a}, B={B}\")\n",
    "print(\"Output:\")\n",
    "Bx,By=B\n",
    "dlist=[]\n",
    "for i in range(N):\n",
    "    x,y=a[i]\n",
    "    dlist.append(DistInCoor(Bx,By,x,y))\n",
    "m=dlist.index(min(dlist))\n",
    "print(a[m])"
   ]
  },
  {
   "cell_type": "code",
   "execution_count": 16,
   "id": "b20b612b-8877-4cab-b2ae-2b2ff99fbc7f",
   "metadata": {
    "tags": []
   },
   "outputs": [
    {
     "name": "stdin",
     "output_type": "stream",
     "text": [
      "Nuqtalar soni:  10\n"
     ]
    },
    {
     "name": "stdout",
     "output_type": "stream",
     "text": [
      "Input: a=[[2, -5], [-9, 7], [8, -8], [6, 6], [9, -9], [3, 5], [-2, 6], [-5, -8], [-2, 5], [-3, 6]]\n",
      "Output:  [-9, 7]\n"
     ]
    }
   ],
   "source": [
    "# 132\n",
    "\"\"\" 2-corakda yotuvci (0,0) dan eng uzoq nuqtani aniqlaw\"\"\"\n",
    "n=int(input(\"Nuqtalar soni: \"))\n",
    "a=ListPoints(n)\n",
    "print(f\"Input: a={a}\")\n",
    "print(\"Output: \",end=(\" \"))\n",
    "dlist=[] # 2-chorakda yotuvchi nuqtalar koordinalari\n",
    "pmaxi=[] # 2-chorakda yotuvchi (0,0) dan eng uzoq nuqta koordinatasi\n",
    "for i in range(n):\n",
    "    x,y=a[i]\n",
    "    temp=DistInCoor(x,y)\n",
    "    if x<0 and y>0: # nuqtaning 2-chorakdalik sharti\n",
    "        dlist.append(temp)\n",
    "        if max(dlist)==temp:\n",
    "            pmaxi=a[i]\n",
    "if dlist:\n",
    "    print(pmaxi)\n",
    "else: # agar 2-chorakka tegishli nuqta mavjud bolmasa\n",
    "    print((0,0))"
   ]
  },
  {
   "cell_type": "code",
   "execution_count": 17,
   "id": "cb28bc55-238e-4945-8202-2e8d8bb4ddda",
   "metadata": {
    "tags": []
   },
   "outputs": [
    {
     "name": "stdin",
     "output_type": "stream",
     "text": [
      "Nuqtalar soni:  10\n"
     ]
    },
    {
     "name": "stdout",
     "output_type": "stream",
     "text": [
      "Input: a=[[-3, -8], [-4, 4], [-5, 3], [2, 0], [3, 2], [-4, 1], [8, 4], [-7, -1], [0, 4], [1, 0]]\n",
      "Output:  [8, 4]\n"
     ]
    }
   ],
   "source": [
    "# 133\n",
    "\"\"\" 1 va 3-corakda yotuvci (0,0) dan eng uzoq nuqtani aniqlaw\"\"\"\n",
    "n=int(input(\"Nuqtalar soni: \"))\n",
    "a=ListPoints(n)\n",
    "print(f\"Input: a={a}\")\n",
    "print(\"Output: \",end=(\" \"))\n",
    "dlist=[]\n",
    "pmaxi=[]\n",
    "for i in range(n):\n",
    "    x,y=a[i]\n",
    "    temp=DistInCoor(x,y)\n",
    "    if x>0 and y>0:\n",
    "        dlist.append(temp)\n",
    "        if max(dlist)==temp:\n",
    "            pmaxi=a[i]\n",
    "    if x<0 and y<0:\n",
    "        dlist.append(temp)\n",
    "        if max(dlist)==temp:\n",
    "            pmaxi=a[i]\n",
    "if dlist:\n",
    "    print(pmaxi)    \n",
    "else:\n",
    "    print((0,0))"
   ]
  },
  {
   "cell_type": "code",
   "execution_count": 19,
   "id": "e64847c8-f7b6-4116-9a3a-1e234d4a09f7",
   "metadata": {
    "tags": []
   },
   "outputs": [
    {
     "name": "stdin",
     "output_type": "stream",
     "text": [
      "Nuqtalar soni:  10\n"
     ]
    },
    {
     "name": "stdout",
     "output_type": "stream",
     "text": [
      "Input: a=[[9, 1], [-7, -8], [-4, -5], [3, -8], [4, -1], [-5, 8], [-4, -1], [3, 9], [9, 5], [2, -2]]\n",
      "Output:  [-7, -8] [9, 5] 20.62\n"
     ]
    }
   ],
   "source": [
    "# 134\n",
    "\"\"\" Bir-biridan eng uzoq nuqtalarni va ular orasidagi masofani aniqlaw\"\"\"\n",
    "N=int(input(\"Nuqtalar soni: \"))\n",
    "a=ListPoints(N) # N ta nuqtaning koordinatalri\n",
    "print(f\"Input: a={a}\")\n",
    "print(\"Output: \",end=(\" \"))\n",
    "dlist=[]\n",
    "pmaxi1=[] # Bir-biridan uzoq 1-nuqta koordinatasi\n",
    "pmaxi2=[] # Bir-biridan uzoq 2-nuqta koordinatasi\n",
    "for i in range(N-1):\n",
    "    Bx,By=a[i]\n",
    "    for j in range (i+1,N):\n",
    "        x,y=a[j]\n",
    "        temp=DistInCoor(Bx,By,x,y)\n",
    "        dlist.append(temp)\n",
    "        if max(dlist)==temp:\n",
    "            pmaxi1=a[i]\n",
    "            pmaxi2=a[j]\n",
    "print(pmaxi1,pmaxi2,round(max(dlist),2))"
   ]
  },
  {
   "cell_type": "code",
   "execution_count": 26,
   "id": "5a354436-bcc2-43ab-9b0f-d34ad9bd3390",
   "metadata": {
    "tags": []
   },
   "outputs": [
    {
     "name": "stdin",
     "output_type": "stream",
     "text": [
      "A toplamdagi nuqtalar soni:  5\n",
      "B toplamdagi nuqtalar soni:  4\n"
     ]
    },
    {
     "name": "stdout",
     "output_type": "stream",
     "text": [
      "Input:\n",
      " A=[[3, -2], [-3, 3], [-1, 0], [5, 0], [-8, -6]] \n",
      " B=[[8, 9], [-5, 5], [-9, 3], [8, 8]]\n",
      "Output:  [-3, 3] [-5, 5] 2.83\n"
     ]
    }
   ],
   "source": [
    "# 135\n",
    "\"\"\" 2 toplamda orasida bir-biridan eng yaqin nuqtalarni va ular orasidagi masofani aniqlaw\"\"\"\n",
    "N1=int(input(\"A toplamdagi nuqtalar soni: \"))\n",
    "N2=int(input(\"B toplamdagi nuqtalar soni: \"))\n",
    "A=ListPoints(N1) \n",
    "B=ListPoints(N2) \n",
    "print(f\"Input:\\n A={A} \\n B={B}\")\n",
    "print(\"Output: \",end=(\" \"))\n",
    "dlist=[]\n",
    "pmini1=[]\n",
    "pmini2=[]\n",
    "for i in range(N1):\n",
    "    Bx,By=A[i]\n",
    "    for j in range (N2):\n",
    "        x,y=B[j]\n",
    "        temp=DistInCoor(Bx,By,x,y)\n",
    "        dlist.append(temp)\n",
    "        if min(dlist)==temp:\n",
    "            pmini1=A[i]\n",
    "            pmini2=B[j]\n",
    "print(pmini1,pmini2,round(min(dlist),2))"
   ]
  },
  {
   "cell_type": "code",
   "execution_count": 29,
   "id": "9a326818-c4fa-4a8d-bd52-06c6fac49e3d",
   "metadata": {
    "tags": []
   },
   "outputs": [
    {
     "name": "stdin",
     "output_type": "stream",
     "text": [
      "Nuqtalar soni:  5\n"
     ]
    },
    {
     "name": "stdout",
     "output_type": "stream",
     "text": [
      "Input: a=[[1, -5], [-5, 4], [-6, 8], [9, 8], [4, -9]]\n",
      "Output:  [-5, 4]\n"
     ]
    }
   ],
   "source": [
    "# 136\n",
    "\"\"\" Bowqa nuqtalargaca bolgan masofalar yigindisi eng kicik boladigan nuqtani aniqlaw\"\"\"\n",
    "N=int(input(\"Nuqtalar soni: \"))\n",
    "a=ListPoints(N)\n",
    "print(f\"Input: a={a}\")\n",
    "print(\"Output: \",end=(\" \"))\n",
    "pmini1=[]\n",
    "sumiList=[]\n",
    "for i in range(N):\n",
    "    Bx,By=a[i]\n",
    "    dlist=[] # i nuqtadan qolgan nuqtalargacha bolgan masofalardan tawkil topgan massiv.  \n",
    "    for j in range (N):\n",
    "        x,y=a[j]\n",
    "        temp=DistInCoor(Bx,By,x,y)\n",
    "        dlist.append(temp)\n",
    "    sumiList.append(sum(dlist))\n",
    "    if min(sumiList)==sum(dlist):\n",
    "        pmini1=a[i]\n",
    "print(pmini1)"
   ]
  },
  {
   "cell_type": "code",
   "execution_count": 50,
   "id": "7231e71d-2931-4449-912e-b16821c7ee6e",
   "metadata": {
    "tags": []
   },
   "outputs": [
    {
     "name": "stdin",
     "output_type": "stream",
     "text": [
      "Nuqtalar soni:  5\n"
     ]
    },
    {
     "name": "stdout",
     "output_type": "stream",
     "text": [
      "Input: a=[[-3, 7], [3, -5], [-2, -4], [0, 7], [8, 9]]\n",
      "Output:  [-3, 7] [3, -5] [8, 9]\n"
     ]
    }
   ],
   "source": [
    "# 137\n",
    "\"\"\"Nuqtalar orasidan perimetri eng katta bolgan ucburcak uclarini koordinatlarini aniqlaw\"\"\"\n",
    "N=int(input(\"Nuqtalar soni: \"))\n",
    "a=ListPoints(N)\n",
    "print(f\"Input: a={a}\")\n",
    "print(\"Output: \",end=(\" \"))\n",
    "sumiList=[]\n",
    "pmini1=[];pmini2=[];pmini3=[] # ucburcak uclarini koordinalari\n",
    "for i in range(N-2):\n",
    "    x1,y1=a[i]\n",
    "    for j in range (i+1,N-1): \n",
    "        x2,y2=a[j]\n",
    "        for k in range(j+1,N):\n",
    "            dlist=[]\n",
    "            x3,y3=a[k]\n",
    "            temp=DistInCoor(x1,y1,x2,y2)\n",
    "            dlist.append(temp)\n",
    "            temp=DistInCoor(x1,y1,x3,y3)\n",
    "            dlist.append(temp)\n",
    "            temp=DistInCoor(x2,y2,x3,y3)\n",
    "            dlist.append(temp)\n",
    "            # print(sum(dlist)) \n",
    "            # print(a[i],a[j],a[k]) # shu commentdagi 2 qatorni tekwiriw u-n foydalaniw m-n.\n",
    "            sumiList.append(sum(dlist))\n",
    "            if max(sumiList)==sum(dlist):\n",
    "                pmini1=a[i]\n",
    "                pmini2=a[j]\n",
    "                pmini3=a[k]\n",
    "print(pmini1,pmini2,pmini3)"
   ]
  },
  {
   "cell_type": "code",
   "execution_count": 52,
   "id": "cc06a927-765d-4882-a288-4ac9f312b29a",
   "metadata": {
    "tags": []
   },
   "outputs": [
    {
     "name": "stdin",
     "output_type": "stream",
     "text": [
      "Nuqtalar soni:  5\n"
     ]
    },
    {
     "name": "stdout",
     "output_type": "stream",
     "text": [
      "Input: a=[[3, -6], [4, -5], [-3, 1], [-8, 3], [-4, -2]]\n",
      "Output:  [-3, 1] [-8, 3] [-4, -2]\n"
     ]
    }
   ],
   "source": [
    "# 138\n",
    "\"\"\"Nuqtalar orasidan perimetri eng kicik bolgan ucburcak uclarini koordinatlarini aniqlaw\"\"\"\n",
    "N=int(input(\"Nuqtalar soni: \"))\n",
    "a=ListPoints(N) # N ta nuqtaning koordinatalaridan iborat list\n",
    "print(f\"Input: a={a}\")\n",
    "print(\"Output: \",end=(\" \"))\n",
    "sumiList=[]\n",
    "pmini1=[]; pmini2=[]; pmini3=[]\n",
    "for i in range(N-2):\n",
    "    x1,y1=a[i]\n",
    "    for j in range (i+1,N-1): \n",
    "        x2,y2=a[j]\n",
    "        for k in range(j+1,N):\n",
    "            dlist=[]\n",
    "            x3,y3=a[k]\n",
    "            temp=DistInCoor(x1,y1,x2,y2)\n",
    "            dlist.append(temp)\n",
    "            temp=DistInCoor(x1,y1,x3,y3)\n",
    "            dlist.append(temp)\n",
    "            temp=DistInCoor(x2,y2,x3,y3)\n",
    "            dlist.append(temp)\n",
    "            # print(sum(dlist)) \n",
    "            # print(a[i],a[j],a[k]) # shu commentdagi 2 qatorni tekwiriw u-n foydalaniw m-n.\n",
    "            sumiList.append(sum(dlist))\n",
    "            if min(sumiList)==sum(dlist):\n",
    "                pmini1=a[i]\n",
    "                pmini2=a[j]\n",
    "                pmini3=a[k]\n",
    "print(pmini1,pmini2,pmini3)"
   ]
  },
  {
   "cell_type": "code",
   "execution_count": 56,
   "id": "18e8f650-ca3e-4331-96b8-0950e290d2ae",
   "metadata": {
    "tags": []
   },
   "outputs": [
    {
     "name": "stdin",
     "output_type": "stream",
     "text": [
      "Nuqtalar soni:  10\n"
     ]
    },
    {
     "name": "stdout",
     "output_type": "stream",
     "text": [
      "[[-9, -8], [-8, 9], [-1, 4], [3, -8], [6, 1], [3, -7]]\n",
      "[[-9, -8], [-8, 9], [-1, 4], [3, -8], [3, -7], [6, 1]]\n"
     ]
    }
   ],
   "source": [
    "# 139\n",
    "\"\"\"Nuqtalar osiw tartibida joylawtiriw (agar x1<x2 yoki x1==x2 da y1<y2)\"\"\"\n",
    "N=int(input(\"Nuqtalar soni: \"))\n",
    "a=ListPoints(N)\n",
    "a=[[-9, -8], [-8, 9], [-1, 4], [3, -8], [6, 1],[3,-7]]\n",
    "print(a)\n",
    "a.sort()\n",
    "print(a)"
   ]
  },
  {
   "cell_type": "code",
   "execution_count": 55,
   "id": "04bfbd2d-fbc8-4190-8609-5349f502016a",
   "metadata": {
    "tags": []
   },
   "outputs": [
    {
     "name": "stdin",
     "output_type": "stream",
     "text": [
      "Nuqtalar soni:  10\n"
     ]
    },
    {
     "name": "stdout",
     "output_type": "stream",
     "text": [
      "[[-9, -8], [-8, 9], [-1, 4], [3, -8], [6, 1], [2, -7]]\n",
      "[[6, 1], [-1, 4], [-8, 9], [3, -8], [2, -7], [-9, -8]]\n"
     ]
    }
   ],
   "source": [
    "# 140\n",
    "\"\"\"Nuqtalar kamayiw tartibida joylawtiriw (agar x1+y1>x2+y2 yoki x1+y1==x2+y2 da x1>x2)\"\"\"\n",
    "N=int(input(\"Nuqtalar soni: \"))\n",
    "a=ListPoints(N) \n",
    "a=[[-9, -8], [-8, 9], [-1, 4], [3, -8], [6, 1],[2,-7]]\n",
    "print(a)\n",
    "def myfunc(n):\n",
    "    return n[0]+n[1]\n",
    "a.sort(key=myfunc,reverse=True)\n",
    "print(a)"
   ]
  },
  {
   "cell_type": "code",
   "execution_count": null,
   "id": "791f03d6-3095-493f-94f4-366a50b6d804",
   "metadata": {},
   "outputs": [],
   "source": []
  }
 ],
 "metadata": {
  "kernelspec": {
   "display_name": "Python 3 (ipykernel)",
   "language": "python",
   "name": "python3"
  },
  "language_info": {
   "codemirror_mode": {
    "name": "ipython",
    "version": 3
   },
   "file_extension": ".py",
   "mimetype": "text/x-python",
   "name": "python",
   "nbconvert_exporter": "python",
   "pygments_lexer": "ipython3",
   "version": "3.11.1"
  }
 },
 "nbformat": 4,
 "nbformat_minor": 5
}
