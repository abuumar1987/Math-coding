{
 "cells": [
  {
   "cell_type": "code",
   "execution_count": 4,
   "id": "3c07f66c-1a9d-4708-bcfd-c38918c5d0f0",
   "metadata": {
    "tags": []
   },
   "outputs": [],
   "source": [
    "import random"
   ]
  },
  {
   "cell_type": "code",
   "execution_count": 26,
   "id": "9280796c-3d13-4dd2-8027-6b32c541d676",
   "metadata": {
    "tags": []
   },
   "outputs": [],
   "source": [
    "def PrintMatrix(M):\n",
    "    for row in range(len(M)):\n",
    "        for column in range(len(M[0])):\n",
    "            print(\"%3d\"%M[row][column],end=(\" \")) # modulo operatori bn output qiliw\n",
    "        print()   "
   ]
  },
  {
   "cell_type": "code",
   "execution_count": 6,
   "id": "03ac7942-10fc-4848-9989-3ec2f34659ed",
   "metadata": {
    "tags": []
   },
   "outputs": [],
   "source": [
    "def CreatRandomMatrix(m,n):    \n",
    "    matrix=[[random.randint(1,9) for i in range(n)] for j in range(m)]\n",
    "    return matrix"
   ]
  },
  {
   "cell_type": "markdown",
   "id": "1ac0cf15-936c-4e8f-a448-1f4810b866b1",
   "metadata": {},
   "source": [
    "# Matritsalarni Qowiw\n",
    "* Faqat !!! M1 == M2"
   ]
  },
  {
   "cell_type": "code",
   "execution_count": 33,
   "id": "111eed33-88f8-4190-8b02-677ee27e69a7",
   "metadata": {
    "tags": []
   },
   "outputs": [
    {
     "name": "stdin",
     "output_type": "stream",
     "text": [
      "Matritsaning satrlar sonini kiriting:  6\n",
      "Matritsaning ustunlar sonini kiriting:  5\n"
     ]
    },
    {
     "name": "stdout",
     "output_type": "stream",
     "text": [
      "\n",
      "input: \n",
      "  3   9   7   8   8 \n",
      "  9   3   7   2   1 \n",
      "  6   7   5   2   5 \n",
      "  3   3   2   8   6 \n",
      "  1   5   7   3   7 \n",
      "  4   5   3   6   5 \n",
      "\n",
      "  5   8   8   9   7 \n",
      "  1   1   5   6   5 \n",
      "  7   9   6   3   2 \n",
      "  5   1   9   7   1 \n",
      "  9   8   8   9   8 \n",
      "  4   5   4   9   8 \n",
      "\n",
      "Output: \n",
      "  8  17  15  17  15 \n",
      " 10   4  12   8   6 \n",
      " 13  16  11   5   7 \n",
      "  8   4  11  15   7 \n",
      " 10  13  15  12  15 \n",
      "  8  10   7  15  13 \n"
     ]
    }
   ],
   "source": [
    "m=int(input('Matritsaning satrlar sonini kiriting: '))\n",
    "n=int(input('Matritsaning ustunlar sonini kiriting: '))\n",
    "print(); print('input: ')\n",
    "X = CreatRandomMatrix(m,n)\n",
    "PrintMatrix(X); print()\n",
    "Y = CreatRandomMatrix(m,n)\n",
    "PrintMatrix(Y); print()\n",
    "M = [[0]*n for i in range(m)] # nol matritsa yaratib oliw\n",
    "for row in range(m):\n",
    "    for column in range(n):\n",
    "        M[row][column] = X[row][column] + Y[row][column]\n",
    "print('Output: ')\n",
    "PrintMatrix(M)        "
   ]
  },
  {
   "cell_type": "markdown",
   "id": "98cafc2a-4a5b-466a-958c-b2e58d4152d6",
   "metadata": {},
   "source": [
    "# Matritsaslarni Kopaytiriw\n",
    "* Diqqat !!! M1 x M2 != M2 x M1"
   ]
  },
  {
   "cell_type": "code",
   "execution_count": 32,
   "id": "ab075d67-7584-4ec7-a76f-1e190c058d19",
   "metadata": {
    "tags": []
   },
   "outputs": [
    {
     "name": "stdin",
     "output_type": "stream",
     "text": [
      "1-matritsaning satrlar sonini kiriting:  6\n",
      "2-matritsaning ustunlar sonini kiriting:  5\n",
      "1- matritsaning ustunlari va 2-matritsaning satrlari ucun umumiy bolgan sonni kiriting:  7\n"
     ]
    },
    {
     "name": "stdout",
     "output_type": "stream",
     "text": [
      "Input: \n",
      "  2   4   8   2   1   3   5 \n",
      "  6   2   1   2   3   9   8 \n",
      "  2   4   9   3   1   4   8 \n",
      "  3   8   8   8   9   2   2 \n",
      "  8   1   6   6   1   3   6 \n",
      "  9   5   5   5   5   7   2 \n",
      "\n",
      "  7   7   8   6   2 \n",
      "  5   7   5   6   5 \n",
      "  3   9   7   4   2 \n",
      "  5   3   2   8   9 \n",
      "  8   1   7   3   8 \n",
      "  8   1   8   6   1 \n",
      "  3   2   1   6   1 \n",
      "\n",
      "Output: \n",
      "115 134 132 135  74 \n",
      "185  99 170 179  83 \n",
      "140 153 152 171  89 \n",
      "219 188 217 213 210 \n",
      "159 151 160 183 104 \n",
      "230 174 235 213 147 \n"
     ]
    }
   ],
   "source": [
    "'''X matritsaning Y matritsaga kopaytmasi ( ** Y matritsaning X matritsaga emas !!!! **)'''\n",
    "m = int(input('1-matritsaning satrlar sonini kiriting: '))\n",
    "n = int(input('2-matritsaning ustunlar sonini kiriting: '))\n",
    "p = int(input('1- matritsaning ustunlari va 2-matritsaning satrlari ucun umumiy bolgan sonni kiriting: '))\n",
    "print('Input: ')\n",
    "X = CreatRandomMatrix(m,p)\n",
    "PrintMatrix(X); print()\n",
    "Y = CreatRandomMatrix(p,n)\n",
    "PrintMatrix(Y); print()\n",
    "M = [[0]*n for i in range(m)] # m x n olcamli nol matritsa yaratib oliw\n",
    "for i in range(m):    \n",
    "    for j in range(n):\n",
    "        M[i][j]=0\n",
    "        for k in range(p):\n",
    "            M[i][j] += X[i][k]*Y[k][j]            \n",
    "print('Output: ')\n",
    "PrintMatrix(M)"
   ]
  },
  {
   "cell_type": "code",
   "execution_count": null,
   "id": "5718fc9c-822a-4723-b984-2251b4c70590",
   "metadata": {},
   "outputs": [],
   "source": []
  }
 ],
 "metadata": {
  "kernelspec": {
   "display_name": "Python 3 (ipykernel)",
   "language": "python",
   "name": "python3"
  },
  "language_info": {
   "codemirror_mode": {
    "name": "ipython",
    "version": 3
   },
   "file_extension": ".py",
   "mimetype": "text/x-python",
   "name": "python",
   "nbconvert_exporter": "python",
   "pygments_lexer": "ipython3",
   "version": "3.11.1"
  }
 },
 "nbformat": 4,
 "nbformat_minor": 5
}
