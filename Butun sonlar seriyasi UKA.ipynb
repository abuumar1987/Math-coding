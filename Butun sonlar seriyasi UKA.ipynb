{
 "cells": [
  {
   "cell_type": "code",
   "execution_count": null,
   "id": "825e58f9-728b-49ff-a3e8-449f30b47376",
   "metadata": {},
   "outputs": [],
   "source": [
    "# BUTUN SONLAR SERIYASI"
   ]
  },
  {
   "cell_type": "code",
   "execution_count": 34,
   "id": "5e7c9748-3963-4f3a-89c6-7da673416683",
   "metadata": {
    "tags": []
   },
   "outputs": [],
   "source": [
    "# 116\n",
    "def SeriaNum116(A):\n",
    "    \"\"\"Massiv seriyalar uzunliklari va seriya qiymatlarini qaytaruvchi B va C massivlar yasaw\"\"\"\n",
    "    print(\"Input:\",A)\n",
    "    print(\"Output:\")\n",
    "    B=[] # seriya uzunliklaridan iborat list\n",
    "    C=[] # seriya qiymatlarinidan iborat list\n",
    "    lenS=1 # seriyani uzunligi\n",
    "    for i in range(len(A)-1):\n",
    "        if A[i]==A[i+1]:\n",
    "            lenS += 1\n",
    "        else:\n",
    "            B.append(lenS)\n",
    "            C.append(A[i])\n",
    "            lenS=1\n",
    "    # oxirgi elementni tekwiriw\n",
    "    if A[i]==A[-1]: \n",
    "        B.append(lenS)\n",
    "        C.append(A[i])\n",
    "    else:\n",
    "        B.append(lenS)           \n",
    "        C.append(A[-1])  \n",
    "    return B,C\n",
    "# A=[1,1,3,3,1,1,1,2,2,8,9,3]\n",
    "# print(SeriaNum116(A))"
   ]
  },
  {
   "cell_type": "code",
   "execution_count": 13,
   "id": "a0b29db3-f29a-4109-b931-d4d1a6522228",
   "metadata": {
    "tags": []
   },
   "outputs": [],
   "source": [
    "def ArraySerialNum(B,C):\n",
    "    A=[]\n",
    "    for i in range(len(B)):\n",
    "        for j in range(B[i]):\n",
    "            A.append(C[i])\n",
    "    return A\n",
    "    "
   ]
  },
  {
   "cell_type": "code",
   "execution_count": 14,
   "id": "bcf7bc25-af8b-4932-b0ca-4ff2cad2609a",
   "metadata": {},
   "outputs": [
    {
     "name": "stdout",
     "output_type": "stream",
     "text": [
      "Input: [1, 1, 3, 3, 1, 1, 1, 2, 2, 8, 9, 6]\n",
      "Output:\n",
      "[0, 1, 1, 0, 3, 3, 0, 1, 1, 1, 0, 2, 2, 0, 8, 0, 9, 0, 6]\n"
     ]
    }
   ],
   "source": [
    "# 117\n",
    "def SerialNum117(A):\n",
    "    \"\"\" Har bir seriya oldidan qiymati nol bolgan element qowiw\"\"\"\n",
    "    print(\"Input:\",A)\n",
    "    print(\"Output:\")\n",
    "    B,C=SeriaNum116(A)\n",
    "    i=0\n",
    "    while i<len(B):\n",
    "        B.insert(i,1)\n",
    "        C.insert(i,0)\n",
    "        i += 2\n",
    "    A= ArraySerialNum(B,C)\n",
    "    return A\n",
    "A1=[1,1,3,3,1,1,1,2,2,8,9,6]\n",
    "print(SerialNum117(A1))"
   ]
  },
  {
   "cell_type": "code",
   "execution_count": 15,
   "id": "fbd4a448-b0c8-43a3-be11-455af5e41c6a",
   "metadata": {
    "tags": []
   },
   "outputs": [
    {
     "name": "stdout",
     "output_type": "stream",
     "text": [
      "Input: [1, 1, 3, 3, 1, 1, 1, 2, 2, 8, 9, 6]\n",
      "Output:\n",
      "[1, 1, 0, 3, 3, 0, 1, 1, 1, 0, 2, 2, 0, 8, 0, 9, 0, 6, 0]\n"
     ]
    }
   ],
   "source": [
    "# 118\n",
    "def SerialNum118(A):\n",
    "    \"\"\" Har bir seriyadan song qiymati nol bolgan element qowiw\"\"\"\n",
    "    print(\"Input:\",A)\n",
    "    print(\"Output:\")\n",
    "    B,C=SeriaNum116(A)\n",
    "    i=0\n",
    "    while i<len(B):\n",
    "        B.insert(i+1,1)\n",
    "        C.insert(i+1,0)\n",
    "        i += 2\n",
    "    A= ArraySerialNum(B,C)\n",
    "    return A\n",
    "A=[1,1,3,3,1,1,1,2,2,8,9,6]\n",
    "print(SerialNum118(A)) "
   ]
  },
  {
   "cell_type": "code",
   "execution_count": 17,
   "id": "66f6a6c4-2e8d-4e74-a12b-d2c4bf4fb505",
   "metadata": {
    "tags": []
   },
   "outputs": [
    {
     "name": "stdout",
     "output_type": "stream",
     "text": [
      "Input: [1, 1, 3, 3, 1, 1, 1, 2, 2, 8, 9, 6]\n",
      "Output:\n",
      "[1, 1, 1, 3, 3, 3, 1, 1, 1, 1, 2, 2, 2, 8, 8, 9, 9, 6, 6]\n"
     ]
    }
   ],
   "source": [
    "# 119\n",
    "def SerialNum119(A):\n",
    "    \"\"\" Har bir seriyaga 1 element qowiw\"\"\"\n",
    "    print(\"Input:\",A)\n",
    "    print(\"Output:\")\n",
    "    B,C=SeriaNum116(A)\n",
    "    i=0\n",
    "    while i<len(B):\n",
    "        B.insert(i,1)\n",
    "        C.insert(i,C[i])\n",
    "        i += 2\n",
    "    A= ArraySerialNum(B,C)\n",
    "    return A\n",
    "A=[1,1,3,3,1,1,1,2,2,8,9,6]\n",
    "print(SerialNum119(A)) "
   ]
  },
  {
   "cell_type": "code",
   "execution_count": 18,
   "id": "50097a25-ce7e-43b7-95c0-a1f44347615e",
   "metadata": {
    "tags": []
   },
   "outputs": [
    {
     "name": "stdout",
     "output_type": "stream",
     "text": [
      "Input: [1, 1, 3, 3, 1, 1, 1, 2, 2, 8, 9, 6]\n",
      "Output:\n",
      "[1, 3, 1, 1, 2]\n"
     ]
    }
   ],
   "source": [
    "# 120\n",
    "def SerialNum120(A):\n",
    "    \"\"\" Har bir seriyani 1 elementga kamaytiriw\"\"\"\n",
    "    print(\"Input:\",A)\n",
    "    print(\"Output:\")\n",
    "    B,C=SeriaNum116(A)\n",
    "    i=0\n",
    "    while i<len(B):\n",
    "        if B[i]<1:\n",
    "            B.pop(i)\n",
    "            C.pop(i)\n",
    "            i -= 1\n",
    "        else:\n",
    "            B[i] -= 1\n",
    "        i += 1\n",
    "    A= ArraySerialNum(B,C)            \n",
    "    return A    \n",
    "A1=[1,1,3,3,1,1,1,2,2,8,9,6]\n",
    "print(SerialNum120(A1)) "
   ]
  },
  {
   "cell_type": "code",
   "execution_count": 19,
   "id": "d53eeccf-c279-4586-b3d4-52474c041b55",
   "metadata": {},
   "outputs": [
    {
     "name": "stdout",
     "output_type": "stream",
     "text": [
      "Input: [1, 1, 3, 3, 1, 1, 1, 2, 2, 8, 9, 6]\n",
      "Output:\n",
      "[1, 1, 3, 3, 1, 1, 1, 1, 1, 1, 2, 2, 8, 9, 6]\n"
     ]
    }
   ],
   "source": [
    "# 121\n",
    "def SerialNum121(A,K):\n",
    "    \"\"\" K-seriyaning uzunligini 2 marta owiriw\"\"\"\n",
    "    print(\"Input:\",A)\n",
    "    print(\"Output:\")\n",
    "    B,C=SeriaNum116(A)\n",
    "    if K<len(B):\n",
    "        B[K]=B[K]*2\n",
    "    else:\n",
    "        pass\n",
    "    A= ArraySerialNum(B,C)\n",
    "    return A\n",
    "A1=[1,1,3,3,1,1,1,2,2,8,9,6]\n",
    "print(SerialNum121(A1,2))"
   ]
  },
  {
   "cell_type": "code",
   "execution_count": 20,
   "id": "82430d26-7de1-4d7c-ad35-4add5d7acec2",
   "metadata": {},
   "outputs": [
    {
     "name": "stdout",
     "output_type": "stream",
     "text": [
      "Input: [1, 1, 3, 3, 1, 1, 1, 2, 2, 8, 9, 6]\n",
      "Output:\n",
      "[1, 1, 3, 3, 1, 1, 1, 2, 2, 9, 6]\n"
     ]
    }
   ],
   "source": [
    "# 122\n",
    "def SerialNum121(A,K):\n",
    "    \"\"\" K-seriyani ochiriw\"\"\"\n",
    "    print(\"Input:\",A)\n",
    "    print(\"Output:\")\n",
    "    B,C=SeriaNum116(A)\n",
    "    if K<len(B):\n",
    "        B.pop(K)\n",
    "        C.pop(K)\n",
    "    else:\n",
    "        pass\n",
    "    A= ArraySerialNum(B,C)\n",
    "    return A\n",
    "A1=[1,1,3,3,1,1,1,2,2,8,9,6]\n",
    "print(SerialNum121(A1,4))"
   ]
  },
  {
   "cell_type": "code",
   "execution_count": 22,
   "id": "7fdee372-a858-49a3-94ab-a332b153cbd5",
   "metadata": {
    "tags": []
   },
   "outputs": [
    {
     "name": "stdout",
     "output_type": "stream",
     "text": [
      "Input: [1, 1, 3, 3, 1, 1, 1, 2, 2, 8, 8, 6, 6, 6]\n",
      "Output:\n",
      "[8, 8, 3, 3, 1, 1, 1, 2, 2, 1, 1, 6, 6, 6]\n"
     ]
    }
   ],
   "source": [
    "# 123\n",
    "def SerialNum123(A,K):\n",
    "    \"\"\"K-bilan 1-seriyani ornini almawtiriw\"\"\"\n",
    "    print(\"Input:\",A)\n",
    "    print(\"Output:\")\n",
    "    B,C=SeriaNum116(A)\n",
    "    if K<len(C):\n",
    "        B[0],B[K]=B[K],B[0]\n",
    "        C[0],C[K]=C[K],C[0]            \n",
    "    else:\n",
    "        pass\n",
    "    A= ArraySerialNum(B,C)\n",
    "    return A\n",
    "A1=[1,1,3,3,1,1,1,2,2,8,8,6,6,6]\n",
    "print(SerialNum123(A1,4))"
   ]
  },
  {
   "cell_type": "code",
   "execution_count": 21,
   "id": "febcf521-7f5f-4042-adfc-814371e23379",
   "metadata": {
    "tags": []
   },
   "outputs": [
    {
     "name": "stdout",
     "output_type": "stream",
     "text": [
      "Input: [1, 1, 3, 3, 1, 1, 1, 2, 2, 8, 8, 6, 6, 6]\n",
      "Output:\n",
      "[1, 1, 3, 3, 1, 1, 1, 2, 2, 6, 6, 6, 8, 8]\n"
     ]
    }
   ],
   "source": [
    "# 124\n",
    "def SerialNum124(A,K):\n",
    "    \"\"\"K-bilan songi seriyani ornini almawtiriw\"\"\"\n",
    "    print(\"Input:\",A)\n",
    "    print(\"Output:\")\n",
    "    B,C=SeriaNum116(A)\n",
    "    if K<len(C):\n",
    "        B[-1],B[K]=B[K],B[-1]\n",
    "        C[-1],C[K]=C[K],C[-1]      \n",
    "    else:\n",
    "        pass\n",
    "    A= ArraySerialNum(B,C)\n",
    "    return A\n",
    "A1=[1,1,3,3,1,1,1,2,2,8,8,6,6,6]\n",
    "print(SerialNum124(A1,4))"
   ]
  },
  {
   "cell_type": "code",
   "execution_count": 23,
   "id": "e28b235a-beb6-4600-80b4-f90db50a3ae9",
   "metadata": {
    "tags": []
   },
   "outputs": [
    {
     "name": "stdout",
     "output_type": "stream",
     "text": [
      "Input: [9, 9, 9, 9, 3, 3, 1, 1, 1, 2, 2, 8, 8, 6, 6, 6]\n",
      "Output:\n",
      "[9, 9, 9, 9, 0, 1, 1, 1, 0, 0, 6, 6, 6]\n"
     ]
    }
   ],
   "source": [
    "# 125\n",
    "def SerialNum125(A,K):\n",
    "    \"\"\"Uzunligi K dan kicik seriyani qiymati nol bolgan 1 ta element b-n almawtiriw\"\"\"\n",
    "    print(\"Input:\",A)\n",
    "    print(\"Output:\")\n",
    "    B,C=SeriaNum116(A)\n",
    "    for i in range(len(B)):\n",
    "        if B[i]<K:\n",
    "            B[i]=1\n",
    "            C[i]=0\n",
    "    A= ArraySerialNum(B,C)   \n",
    "    return A\n",
    "A1=[9,9,9,9,3,3,1,1,1,2,2,8,8,6,6,6]\n",
    "print(SerialNum125(A1,3))"
   ]
  },
  {
   "cell_type": "code",
   "execution_count": 24,
   "id": "e04bcaa6-a00b-44e2-9551-594fac1981d1",
   "metadata": {
    "tags": []
   },
   "outputs": [
    {
     "name": "stdout",
     "output_type": "stream",
     "text": [
      "Input: [9, 9, 9, 9, 3, 3, 1, 1, 1, 2, 2, 8, 8, 6, 6, 6]\n",
      "Output:\n",
      "[9, 9, 9, 9, 3, 3, 0, 2, 2, 8, 8, 0]\n"
     ]
    }
   ],
   "source": [
    "# 126\n",
    "def SerialNum126(A,K):\n",
    "    \"\"\"Uzunligi K ga teng seriyani qiymati nol bolgan 1ta element b-n almawtiriw\"\"\"\n",
    "    print(\"Input:\",A)\n",
    "    print(\"Output:\")\n",
    "    B,C=SeriaNum116(A)\n",
    "    for i in range(len(B)):\n",
    "        if B[i]==K: \n",
    "            B[i]=1\n",
    "            C[i]=0   \n",
    "    A= ArraySerialNum(B,C)\n",
    "    return A\n",
    "A1=[9,9,9,9,3,3,1,1,1,2,2,8,8,6,6,6]\n",
    "print(SerialNum126(A1,3))"
   ]
  },
  {
   "cell_type": "code",
   "execution_count": 25,
   "id": "16731434-967e-4c67-bbd0-b00aff60cc22",
   "metadata": {
    "tags": []
   },
   "outputs": [
    {
     "name": "stdout",
     "output_type": "stream",
     "text": [
      "Input: [9, 9, 9, 9, 3, 3, 1, 1, 1, 2, 2, 8, 8, 6, 6, 6]\n",
      "Output:\n",
      "[0, 3, 3, 1, 1, 1, 2, 2, 8, 8, 6, 6, 6]\n"
     ]
    }
   ],
   "source": [
    "# 127\n",
    "def SerialNum127(A,K):\n",
    "    \"\"\"Uzunligi K dan katta seriyani qiymati nol bolgan 1 ta element b-n almawtiriw\"\"\"\n",
    "    print(\"Input:\",A)\n",
    "    print(\"Output:\")\n",
    "    B,C=SeriaNum116(A)\n",
    "    for i in range(len(B)):\n",
    "        if B[i]>K:\n",
    "            B[i]=1\n",
    "            C[i]=0 \n",
    "    A= ArraySerialNum(B,C)\n",
    "    return A\n",
    "A1=[9,9,9,9,3,3,1,1,1,2,2,8,8,6,6,6]\n",
    "print(SerialNum127(A1,3))"
   ]
  },
  {
   "cell_type": "code",
   "execution_count": 27,
   "id": "e1cdb2a3-c20f-4d13-a4a3-3a78f517bc38",
   "metadata": {
    "tags": []
   },
   "outputs": [
    {
     "name": "stdout",
     "output_type": "stream",
     "text": [
      "Input: [9, 9, 3, 3, 1, 1, 1, 2, 2, 8, 8, 6, 6, 6]\n",
      "Output:\n",
      "[9, 9, 3, 3, 1, 1, 1, 1, 2, 2, 8, 8, 6, 6, 6]\n"
     ]
    }
   ],
   "source": [
    "# 128\n",
    "def SerialNum128(A):\n",
    "    \"\"\"Uzunligi eng katta bolgan 1- ucragan seriyaga element qowiw\"\"\"\n",
    "    print(\"Input:\",A)\n",
    "    print(\"Output:\")\n",
    "    B,C=SeriaNum116(A)\n",
    "    ind=B.index(max(B))\n",
    "    B[ind] += 1\n",
    "    A= ArraySerialNum(B,C)        \n",
    "    return A\n",
    "A1=[9,9,3,3,1,1,1,2,2,8,8,6,6,6]\n",
    "print(SerialNum128(A1))"
   ]
  },
  {
   "cell_type": "code",
   "execution_count": 29,
   "id": "b1459ec4-0446-4f12-a4d6-01f3103b3c01",
   "metadata": {},
   "outputs": [
    {
     "name": "stdout",
     "output_type": "stream",
     "text": [
      "Input: [9, 9, 3, 3, 1, 1, 1, 2, 2, 8, 8, 6, 6, 6]\n",
      "Output:\n",
      "[9, 9, 3, 3, 1, 1, 1, 2, 2, 8, 8, 6, 6, 6, 6]\n"
     ]
    }
   ],
   "source": [
    "# 129\n",
    "def SerialNum129(A):\n",
    "    \"\"\"Uzunligi eng katta bolgan songi ucragan seriyaga element qowiw\"\"\"\n",
    "    print(\"Input:\",A)\n",
    "    print(\"Output:\")\n",
    "    B,C=SeriaNum116(A)\n",
    "    ind=B.index(max(B),-1)\n",
    "    B[ind] += 1\n",
    "    A= ArraySerialNum(B,C)        \n",
    "    return A\n",
    "A1=[9,9,3,3,1,1,1,2,2,8,8,6,6,6]\n",
    "print(SerialNum129(A1))"
   ]
  },
  {
   "cell_type": "code",
   "execution_count": 33,
   "id": "0acde1a6-fb13-4f97-8a54-cffb60b8b02a",
   "metadata": {},
   "outputs": [
    {
     "name": "stdout",
     "output_type": "stream",
     "text": [
      "Input: [9, 9, 3, 3, 1, 1, 1, 2, 2, 8, 8, 6, 6, 6]\n",
      "Output:\n",
      "[9, 9, 9, 3, 3, 3, 1, 1, 1, 1, 2, 2, 2, 8, 8, 8, 6, 6, 6, 6]\n"
     ]
    }
   ],
   "source": [
    "# 130\n",
    "def SerialNum130(A):\n",
    "    print(\"Input:\",A)\n",
    "    print(\"Output:\")\n",
    "    B,C=SeriaNum116(A)\n",
    "    for i in range(len(B)):\n",
    "        B[i] += 1\n",
    "    A= ArraySerialNum(B,C)        \n",
    "    return A\n",
    "A1=[9,9,3,3,1,1,1,2,2,8,8,6,6,6]\n",
    "print(SerialNum130(A1))"
   ]
  }
 ],
 "metadata": {
  "kernelspec": {
   "display_name": "Python 3 (ipykernel)",
   "language": "python",
   "name": "python3"
  },
  "language_info": {
   "codemirror_mode": {
    "name": "ipython",
    "version": 3
   },
   "file_extension": ".py",
   "mimetype": "text/x-python",
   "name": "python",
   "nbconvert_exporter": "python",
   "pygments_lexer": "ipython3",
   "version": "3.11.1"
  }
 },
 "nbformat": 4,
 "nbformat_minor": 5
}
