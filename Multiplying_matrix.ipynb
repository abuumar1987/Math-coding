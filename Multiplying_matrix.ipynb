{
 "cells": [
  {
   "cell_type": "code",
   "execution_count": 4,
   "id": "4e8a1630-b866-4bf1-8f0c-7299d9ab6b34",
   "metadata": {
    "tags": []
   },
   "outputs": [],
   "source": [
    "import random"
   ]
  },
  {
   "cell_type": "code",
   "execution_count": 1,
   "id": "8842cf8e-f19f-4a28-babe-d942dddf5f39",
   "metadata": {
    "tags": []
   },
   "outputs": [],
   "source": [
    "def PrintMatrix(M):\n",
    "    for row in range(len(M)):\n",
    "        for column in range(len(M[0])):\n",
    "            print(\"%3d\"%M[row][column],end=(\" \")) # modulo operatori bn output qiliw\n",
    "        print() "
   ]
  },
  {
   "cell_type": "code",
   "execution_count": 2,
   "id": "3a348576-e987-4b8f-89c8-29de600abaa5",
   "metadata": {
    "tags": []
   },
   "outputs": [],
   "source": [
    "def PrintMatrix(M):\n",
    "    for row in range(len(M)):\n",
    "        for column in range(len(M[0])):\n",
    "            print(\"%3d\"%M[row][column],end=(\" \")) # modulo operatori bn output qiliw\n",
    "        print()   "
   ]
  },
  {
   "cell_type": "code",
   "execution_count": 3,
   "id": "2975d814-c08d-4ac9-9486-f37cfab9cddc",
   "metadata": {
    "tags": []
   },
   "outputs": [],
   "source": [
    "def CreatRandomMatrix(m,n):    \n",
    "    matrix=[[random.randint(1,9) for i in range(n)] for j in range(m)]\n",
    "    return matrix"
   ]
  },
  {
   "cell_type": "markdown",
   "id": "c43587e5-67eb-4d48-8890-3533d300b937",
   "metadata": {},
   "source": [
    "# Matritsaslarni Kopaytiriw\n",
    "* Diqqat !!! M1 x M2 != M2 x M1"
   ]
  },
  {
   "cell_type": "code",
   "execution_count": 5,
   "id": "a6f9d83b-a66e-49c7-b33e-707193f5a2d4",
   "metadata": {
    "tags": []
   },
   "outputs": [
    {
     "name": "stdin",
     "output_type": "stream",
     "text": [
      "1-matritsaning satrlar sonini kiriting:  6\n",
      "2-matritsaning ustunlar sonini kiriting:  5\n",
      "1- matritsaning ustunlari va 2-matritsaning satrlari ucun umumiy bolgan sonni kiriting:  7\n"
     ]
    },
    {
     "name": "stdout",
     "output_type": "stream",
     "text": [
      "Input: \n",
      "  4   3   1   7   7   7   1 \n",
      "  6   7   2   5   6   3   1 \n",
      "  5   2   1   9   8   9   6 \n",
      "  8   4   8   3   6   2   9 \n",
      "  2   5   7   6   7   9   7 \n",
      "  8   6   7   9   2   5   4 \n",
      "\n",
      "  1   3   6   3   2 \n",
      "  7   5   9   2   6 \n",
      "  6   3   8   9   4 \n",
      "  9   4   5   4   7 \n",
      "  4   7   5   1   6 \n",
      "  3   9   5   3   5 \n",
      "  8   6   3   5   9 \n",
      "\n",
      "Output: \n",
      "151 176 167  88 165 \n",
      "153 154 188  90 157 \n",
      "213 237 204 129 236 \n",
      "213 194 230 173 220 \n",
      "244 248 244 172 254 \n",
      "228 194 250 172 216 \n"
     ]
    }
   ],
   "source": [
    "'''X matritsaning Y matritsaga kopaytmasi ( ** Y matritsaning X matritsaga emas !!!! **)'''\n",
    "m = int(input('1-matritsaning satrlar sonini kiriting: '))\n",
    "n = int(input('2-matritsaning ustunlar sonini kiriting: '))\n",
    "p = int(input('1- matritsaning ustunlari va 2-matritsaning satrlari ucun umumiy bolgan sonni kiriting: '))\n",
    "print('Input: ')\n",
    "X = CreatRandomMatrix(m,p)\n",
    "PrintMatrix(X); print()\n",
    "Y = CreatRandomMatrix(p,n)\n",
    "PrintMatrix(Y); print()\n",
    "M = [[0]*n for i in range(m)] # m x n olcamli nol matritsa yaratib oliw\n",
    "for i in range(m):    \n",
    "    for j in range(n):\n",
    "        M[i][j]=0\n",
    "        for k in range(p):\n",
    "            M[i][j] += X[i][k]*Y[k][j]            \n",
    "print('Output: ')\n",
    "PrintMatrix(M)"
   ]
  },
  {
   "cell_type": "code",
   "execution_count": 6,
   "id": "1a3cce3f-2f7b-497f-8420-db86ae9d03e3",
   "metadata": {
    "tags": []
   },
   "outputs": [
    {
     "name": "stdin",
     "output_type": "stream",
     "text": [
      "Matematik ifodani kiriting (son +- son +- son):  5+9+4-2\n"
     ]
    },
    {
     "name": "stdout",
     "output_type": "stream",
     "text": [
      "16\n"
     ]
    }
   ],
   "source": [
    "# 23 (bir xonali sonlar ucun qowiw / ayiriw)\n",
    "'''satr bolgan 'son +- son +- son' ning qiymatini qaytari'''\n",
    "txt = input('Matematik ifodani kiriting (son +- son +- son): ')\n",
    "temp = 0\n",
    "if txt[0] != '-':\n",
    "    temp += int(txt[0])\n",
    "for i in range(len(txt)):\n",
    "    if txt[i] == '-':\n",
    "        temp -= int(txt[i+1])\n",
    "    elif txt[i] == '+':\n",
    "        temp += int(txt[i+1])\n",
    "print(temp)"
   ]
  },
  {
   "cell_type": "code",
   "execution_count": 7,
   "id": "85752c35-276f-4230-bc41-1305f0a310de",
   "metadata": {
    "tags": []
   },
   "outputs": [
    {
     "name": "stdin",
     "output_type": "stream",
     "text": [
      "Matematik ifodani kiriting (son +- son +- son):  40-15+10-40-15+10+40-15+10-40-15+10\n"
     ]
    },
    {
     "name": "stdout",
     "output_type": "stream",
     "text": [
      "-20\n"
     ]
    }
   ],
   "source": [
    "# 23 (kop xonali sonlar ucun qowiw / ayiriw) (optimized)\n",
    "'''satr bolgan 'son +- son +- son' ning qiymatini qaytari'''\n",
    "txt = input('Matematik ifodani kiriting (son +- son +- son): ')\n",
    "temp = txt.split('+')\n",
    "sumi = 0\n",
    "for i in temp:\n",
    "    x = []\n",
    "    if i.isnumeric():\n",
    "        sumi += int(i)\n",
    "    else:\n",
    "        x = i.split('-')\n",
    "        sumi += int(x[0])\n",
    "        for j in range(1,len(x)):\n",
    "            sumi -= int(x[j])\n",
    "print(sumi) "
   ]
  },
  {
   "cell_type": "code",
   "execution_count": 9,
   "id": "dfc51800-6a4f-4faa-a2a9-a9dc654b1fea",
   "metadata": {
    "tags": []
   },
   "outputs": [
    {
     "name": "stdin",
     "output_type": "stream",
     "text": [
      "Matematik ifodani kiriting (son */ son */ son):  100/25*4/20*12\n"
     ]
    },
    {
     "name": "stdout",
     "output_type": "stream",
     "text": [
      "9.6\n"
     ]
    }
   ],
   "source": [
    "# 23 (kop xonali sonlar ucun kopaytiriw / boliw)\n",
    "'''satr bolgan 'son */ son */ son' ning qiymatini qaytari'''\n",
    "txt = input('Matematik ifodani kiriting (son */ son */ son): ')\n",
    "temp = txt.split('*')\n",
    "sumi = 1\n",
    "for i in temp:\n",
    "    x = []\n",
    "    if i.isnumeric():\n",
    "        sumi *= int(i)\n",
    "    else:\n",
    "        x = i.split('/')\n",
    "        sumi *= int(x[0])\n",
    "        for j in range(1,len(x)):\n",
    "            sumi /= int(x[j])\n",
    "print(round(sumi,2)) "
   ]
  },
  {
   "cell_type": "code",
   "execution_count": null,
   "id": "9e9c9a6b-30a5-4905-8c9a-305c2dc4003a",
   "metadata": {},
   "outputs": [],
   "source": []
  }
 ],
 "metadata": {
  "kernelspec": {
   "display_name": "Python 3 (ipykernel)",
   "language": "python",
   "name": "python3"
  },
  "language_info": {
   "codemirror_mode": {
    "name": "ipython",
    "version": 3
   },
   "file_extension": ".py",
   "mimetype": "text/x-python",
   "name": "python",
   "nbconvert_exporter": "python",
   "pygments_lexer": "ipython3",
   "version": "3.11.1"
  }
 },
 "nbformat": 4,
 "nbformat_minor": 5
}
